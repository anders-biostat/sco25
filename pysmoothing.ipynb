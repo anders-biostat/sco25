{
 "cells": [
  {
   "cell_type": "markdown",
   "id": "0",
   "metadata": {},
   "source": [
    "### Kernel smoothing (with Python)"
   ]
  },
  {
   "cell_type": "code",
   "execution_count": null,
   "id": "1",
   "metadata": {},
   "outputs": [],
   "source": [
    "import numpy as np\n",
    "import scipy\n",
    "from matplotlib import pyplot as plt"
   ]
  },
  {
   "cell_type": "markdown",
   "id": "2",
   "metadata": {},
   "source": [
    "#### True function"
   ]
  },
  {
   "cell_type": "markdown",
   "id": "3",
   "metadata": {},
   "source": [
    "Our \"true function\" that we will try to recover from noisy data:"
   ]
  },
  {
   "cell_type": "code",
   "execution_count": null,
   "id": "4",
   "metadata": {},
   "outputs": [],
   "source": [
    "def true_function(x):\n",
    "    return .3 * np.sin(4*x) / (1+(2*x)**2)  + 10*x**2 / (1+(4*x)**4) "
   ]
  },
  {
   "cell_type": "code",
   "execution_count": null,
   "id": "5",
   "metadata": {},
   "outputs": [],
   "source": [
    "xg = np.linspace( -2, 2, num=1000 )"
   ]
  },
  {
   "cell_type": "code",
   "execution_count": null,
   "id": "6",
   "metadata": {},
   "outputs": [],
   "source": [
    "plt.scatter( xg, true_function(xg), s=.1 )"
   ]
  },
  {
   "cell_type": "markdown",
   "id": "7",
   "metadata": {},
   "source": [
    "#### Noisy data"
   ]
  },
  {
   "cell_type": "markdown",
   "id": "8",
   "metadata": {},
   "source": [
    "Draw $n$ random x values from the uniform distribution over $[-2;2]$"
   ]
  },
  {
   "cell_type": "code",
   "execution_count": null,
   "id": "9",
   "metadata": {},
   "outputs": [],
   "source": [
    "n = 300\n",
    "x = np.random.uniform( -2, 2, n)"
   ]
  },
  {
   "cell_type": "markdown",
   "id": "10",
   "metadata": {},
   "source": [
    "Calculate true function values at these positions and distort them by adding noise drawn from a normal distribution with mean 0 and some small standard deviation"
   ]
  },
  {
   "cell_type": "code",
   "execution_count": null,
   "id": "11",
   "metadata": {},
   "outputs": [],
   "source": [
    "y = true_function(x) + np.random.normal( 0, .02, n )"
   ]
  },
  {
   "cell_type": "markdown",
   "id": "12",
   "metadata": {},
   "source": [
    "Plot the simulated data"
   ]
  },
  {
   "cell_type": "code",
   "execution_count": null,
   "id": "13",
   "metadata": {},
   "outputs": [],
   "source": [
    "plt.scatter( x, y, s=.5 )"
   ]
  },
  {
   "cell_type": "markdown",
   "id": "14",
   "metadata": {},
   "source": [
    "#### Smoothing kernel"
   ]
  },
  {
   "cell_type": "markdown",
   "id": "15",
   "metadata": {},
   "source": [
    "We use the tricube kernel:"
   ]
  },
  {
   "cell_type": "code",
   "execution_count": null,
   "id": "16",
   "metadata": {},
   "outputs": [],
   "source": [
    "def tricube(x):\n",
    "    return np.where( np.abs(x)<1, (1-np.abs(x)**3)**3, 0 )"
   ]
  },
  {
   "cell_type": "markdown",
   "id": "17",
   "metadata": {},
   "source": [
    "Plot it, to check its shape"
   ]
  },
  {
   "cell_type": "code",
   "execution_count": null,
   "id": "18",
   "metadata": {},
   "outputs": [],
   "source": [
    "plt.scatter( xg, tricube(xg), s=.1 )"
   ]
  },
  {
   "cell_type": "markdown",
   "id": "19",
   "metadata": {},
   "source": [
    "#### Simple kernel smoothing"
   ]
  },
  {
   "cell_type": "markdown",
   "id": "20",
   "metadata": {},
   "source": [
    "##### Imperative style"
   ]
  },
  {
   "cell_type": "markdown",
   "id": "21",
   "metadata": {},
   "source": [
    "First, as `for` loop (imperative programming style)"
   ]
  },
  {
   "cell_type": "code",
   "execution_count": null,
   "id": "22",
   "metadata": {},
   "outputs": [],
   "source": [
    "# Our smoothing bandwidth (kernel width):\n",
    "h = .2\n",
    "\n",
    "# We want to get smoothed values at the following x positions:\n",
    "xsm = np.linspace( -2, 2, num=300 )\n",
    "\n",
    "# The values will go here:\n",
    "ysm = np.empty( len(xsm) )\n",
    "\n",
    "# Go through all these:\n",
    "for i in range( len(xsm) ):\n",
    "    \n",
    "    # Calculate smoothed y value for x position xsm[i]\n",
    "    # For this, go through all data points\n",
    "    weighted_sum = 0.\n",
    "    weight_sum = 0.\n",
    "    for j in range( len(x) ):\n",
    "        \n",
    "        # Calculate distance of query position to data position\n",
    "        d = x[j] - xsm[i]\n",
    "        # Get weight of data point\n",
    "        w = tricube(d / h)\n",
    "\n",
    "        # Add to sums\n",
    "        weighted_sum += w * y[j]\n",
    "        weight_sum += w\n",
    "\n",
    "    # Store result\n",
    "    ysm[i] = weighted_sum / weight_sum\n",
    "\n",
    "\n",
    "# Plot result (in red)\n",
    "plt.scatter( xsm, ysm, s=.2, c=\"red\" )\n",
    "# Add original \"true function\" in blue\n",
    "plt.scatter( xg, true_function(xg), s=.2, c=\"blue\" )\n",
    "# Add noisy data in black\n",
    "plt.scatter( x, y, s=.4, c=\"black\" )"
   ]
  },
  {
   "cell_type": "markdown",
   "id": "23",
   "metadata": {},
   "source": [
    "##### Semi-functional style"
   ]
  },
  {
   "cell_type": "markdown",
   "id": "24",
   "metadata": {},
   "source": [
    "Now, we write this in a \"functional-programming\" style.\n",
    "\n",
    "We first write a function that takes a query position `x0` (taking the rolw of `xsm[i]` in the code above) and calculates the weighted average of the data values `y` with weights for a kernel centered around `x0` within the data positions `x`:"
   ]
  },
  {
   "cell_type": "code",
   "execution_count": null,
   "id": "25",
   "metadata": {},
   "outputs": [],
   "source": [
    "def simple_smooth( x0, x, y, h ):\n",
    "    # Here, x0 and h are scalars; and x and y are vectors\n",
    "\n",
    "    weighted_sum = 0.\n",
    "    weight_sum = 0.\n",
    "    for j in range( len(x) ):\n",
    "        \n",
    "        d = x[j] - x0\n",
    "        w = tricube(d / h)\n",
    "\n",
    "        weighted_sum += w * y[j]\n",
    "        weight_sum += w\n",
    "\n",
    "    \n",
    "    return weighted_sum / weight_sum"
   ]
  },
  {
   "cell_type": "markdown",
   "id": "26",
   "metadata": {},
   "source": [
    "We want to get smoothed values at the following positions:"
   ]
  },
  {
   "cell_type": "code",
   "execution_count": null,
   "id": "27",
   "metadata": {},
   "outputs": [],
   "source": [
    "xsm = np.linspace( -2, 2, num=300 )"
   ]
  },
  {
   "cell_type": "markdown",
   "id": "28",
   "metadata": {},
   "source": [
    "We call `simple_smooth` for each of these positions"
   ]
  },
  {
   "cell_type": "code",
   "execution_count": null,
   "id": "29",
   "metadata": {},
   "outputs": [],
   "source": [
    "ysm = np.empty( len(xsm) )\n",
    "for i in range(len(xsm)):\n",
    "    ysm[i] = simple_smooth( xsm[i], x, y, h )"
   ]
  },
  {
   "cell_type": "markdown",
   "id": "30",
   "metadata": {},
   "source": [
    "We get the same result as before"
   ]
  },
  {
   "cell_type": "code",
   "execution_count": null,
   "id": "31",
   "metadata": {},
   "outputs": [],
   "source": [
    "plt.scatter( xsm, ysm, s=.2, c=\"red\" )"
   ]
  },
  {
   "cell_type": "markdown",
   "id": "32",
   "metadata": {},
   "source": [
    "##### Functional style"
   ]
  },
  {
   "cell_type": "markdown",
   "id": "33",
   "metadata": {},
   "source": [
    "It would be nice if we could simply pass the whole vector `xsm` to `simple_smooth` rather than each value separately.\n",
    "\n",
    "This can be achieved by \"vectorizing\" the function"
   ]
  },
  {
   "cell_type": "code",
   "execution_count": null,
   "id": "34",
   "metadata": {},
   "outputs": [],
   "source": [
    "def simple_smooth_vectorized( x0, x, y, h ):\n",
    "    return np.vectorize( lambda x0: simple_smooth( x0, x, y, h ) )( xsm )"
   ]
  },
  {
   "cell_type": "markdown",
   "id": "35",
   "metadata": {},
   "source": [
    "This is, in essence, just a fancy way of writing this:"
   ]
  },
  {
   "cell_type": "code",
   "execution_count": null,
   "id": "36",
   "metadata": {},
   "outputs": [],
   "source": [
    "def simple_smooth_vectorized( x0, x, y, h ):\n",
    "    ans = np.empty_like(x0)\n",
    "    for i in range( len(x0) ):\n",
    "        ans[i] = simple_smooth( x0[i], x, y, h )\n",
    "    return ans"
   ]
  },
  {
   "cell_type": "code",
   "execution_count": null,
   "id": "37",
   "metadata": {},
   "outputs": [],
   "source": [
    "xsm = np.linspace( -2, 2, num=300 )\n",
    "ysm = simple_smooth_vectorized( xsm, x, y, h )\n",
    "plt.scatter( xsm, ysm, s=.2, c=\"red\" )"
   ]
  },
  {
   "cell_type": "markdown",
   "id": "38",
   "metadata": {},
   "source": [
    "#### Regression smoothing"
   ]
  },
  {
   "cell_type": "markdown",
   "id": "39",
   "metadata": {},
   "source": [
    "To develop the code, we first chose a fixed query position `x0`"
   ]
  },
  {
   "cell_type": "code",
   "execution_count": null,
   "id": "40",
   "metadata": {},
   "outputs": [],
   "source": [
    "x0 = .35"
   ]
  },
  {
   "cell_type": "markdown",
   "id": "41",
   "metadata": {},
   "source": [
    "We calculate the weights around the query position for all data positions"
   ]
  },
  {
   "cell_type": "code",
   "execution_count": null,
   "id": "42",
   "metadata": {},
   "outputs": [],
   "source": [
    "w = tricube( (x-x0)/h )"
   ]
  },
  {
   "cell_type": "markdown",
   "id": "43",
   "metadata": {},
   "source": [
    "Here is the weighted data:"
   ]
  },
  {
   "cell_type": "code",
   "execution_count": null,
   "id": "44",
   "metadata": {},
   "outputs": [],
   "source": [
    "plt.scatter( x, y, s=3*w )"
   ]
  },
  {
   "cell_type": "markdown",
   "id": "45",
   "metadata": {},
   "source": [
    "Now let's fit a parabola to this.\n",
    "\n",
    "We first make a design matrix $M$ (usually $X$ in regression setting, here called `mm`) by stacking the following three columns:\n",
    "- $\\mathbf{1}$ (a column of 1s),\n",
    "- $\\mathbf{x}$ (the column vector of data positions), and\n",
    "- $\\mathbf{x}^{\\odot 2}$ (the column vector of squared data positions)"
   ]
  },
  {
   "cell_type": "code",
   "execution_count": null,
   "id": "46",
   "metadata": {},
   "outputs": [],
   "source": [
    "mm = np.column_stack((np.ones_like(x), x, x**2))\n",
    "\n",
    "mm[:5,]  # Show first 5 rows"
   ]
  },
  {
   "cell_type": "markdown",
   "id": "47",
   "metadata": {},
   "source": [
    "Now, solve the normal equations for weighted linear regression, $M^T W M \\boldsymbol{\\upbeta} = M^T W \\mathbf{y}$, where $W=\\operatorname{diag}W$"
   ]
  },
  {
   "cell_type": "code",
   "execution_count": null,
   "id": "48",
   "metadata": {},
   "outputs": [],
   "source": [
    "beta = scipy.linalg.solve( mm.T @ np.diag(w) @ mm, mm.T @ np.diag(w) @ y )\n",
    "beta"
   ]
  },
  {
   "cell_type": "markdown",
   "id": "49",
   "metadata": {},
   "source": [
    "Now, construct a matrix like `mm` before but not using the data positions `x` but the linear sequence of query positions, `xsm`. Multiply this with $\\boldsymbol{\\upbeta}$ to get the smoothed values"
   ]
  },
  {
   "cell_type": "code",
   "execution_count": null,
   "id": "50",
   "metadata": {},
   "outputs": [],
   "source": [
    "ysm = np.column_stack((np.ones_like(xsm), xsm, xsm**2)) @ beta"
   ]
  },
  {
   "cell_type": "markdown",
   "id": "51",
   "metadata": {},
   "source": [
    "Plot the parabola (in magenta), with the data points in blue on top,"
   ]
  },
  {
   "cell_type": "code",
   "execution_count": null,
   "id": "52",
   "metadata": {},
   "outputs": [],
   "source": [
    "plt.scatter( xsm, ysm, s=.1, c=\"magenta\" )\n",
    "\n",
    "plt.scatter( x, y, s=3*w )\n",
    "plt.vlines( x0, .4, .5, color=\"gray\" )\n",
    "plt.ylim( 0, .6 )"
   ]
  },
  {
   "cell_type": "markdown",
   "id": "53",
   "metadata": {},
   "source": [
    "Calculate the y value of the parabola at the query position"
   ]
  },
  {
   "cell_type": "code",
   "execution_count": null,
   "id": "54",
   "metadata": {},
   "outputs": [],
   "source": [
    "y0 = np.dot( beta, np.array([ 1, x0, x0**2 ]) )\n",
    "y0"
   ]
  },
  {
   "cell_type": "markdown",
   "id": "55",
   "metadata": {},
   "source": [
    "Put all this together into one function:"
   ]
  },
  {
   "cell_type": "code",
   "execution_count": null,
   "id": "56",
   "metadata": {},
   "outputs": [],
   "source": [
    "def qureg_smooth( x0, x, y, h ):\n",
    "    w = tricube( (x-x0)/h )\n",
    "    mm = np.column_stack((np.ones_like(x), x, x**2))\n",
    "    beta = scipy.linalg.solve( mm.T @ np.diag(w) @ mm, mm.T @ np.diag(w) @ y )\n",
    "    return np.dot( beta, np.array([ 1, x0, x0**2 ]) )"
   ]
  },
  {
   "cell_type": "markdown",
   "id": "57",
   "metadata": {},
   "source": [
    "The following version takes a vector of query positions rather than a single position:"
   ]
  },
  {
   "cell_type": "code",
   "execution_count": null,
   "id": "58",
   "metadata": {},
   "outputs": [],
   "source": [
    "def qureg_smooth_vectorized( xq, x, y, h ):\n",
    "    ans = np.empty_like(xq)\n",
    "    mm = np.column_stack((np.ones_like(x), x, x**2))\n",
    "    for i in range(len(xq)):\n",
    "        w = tricube( (x-xq[i])/h )        \n",
    "        beta = scipy.linalg.solve( mm.T @ np.diag(w) @ mm, mm.T @ np.diag(w) @ y )\n",
    "        ans[i] = np.dot( beta, np.array([ 1, xq[i], xq[i]**2 ]) )\n",
    "    return ans"
   ]
  },
  {
   "cell_type": "code",
   "execution_count": null,
   "id": "59",
   "metadata": {},
   "outputs": [],
   "source": [
    "# Plot true function and data as background\n",
    "plt.scatter( xg, true_function(xg), s=.2, c=\"blue\" )\n",
    "plt.scatter( x, y, s=.4, c=\"black\" )\n",
    "\n",
    "# Perform smoothing and plot result\n",
    "xsm = np.linspace( -2, 2, num=300 )\n",
    "ysm = qureg_smooth_vectorized( xsm, x, y, h )\n",
    "plt.scatter( xsm, ysm, s=.2, c=\"red\" )"
   ]
  },
  {
   "cell_type": "code",
   "execution_count": null,
   "id": "60",
   "metadata": {},
   "outputs": [],
   "source": []
  }
 ],
 "metadata": {
  "kernelspec": {
   "display_name": "Python 3 (ipykernel)",
   "language": "python",
   "name": "python3"
  },
  "language_info": {
   "codemirror_mode": {
    "name": "ipython",
    "version": 3
   },
   "file_extension": ".py",
   "mimetype": "text/x-python",
   "name": "python",
   "nbconvert_exporter": "python",
   "pygments_lexer": "ipython3",
   "version": "3.10.12"
  }
 },
 "nbformat": 4,
 "nbformat_minor": 5
}
